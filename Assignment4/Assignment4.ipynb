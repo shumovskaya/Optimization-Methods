{
 "cells": [
  {
   "cell_type": "markdown",
   "metadata": {
    "collapsed": true
   },
   "source": [
    "# Shumovskaia Valentina, assignment #4."
   ]
  },
  {
   "cell_type": "code",
   "execution_count": 120,
   "metadata": {
    "collapsed": true
   },
   "outputs": [],
   "source": [
    "import scipy.io as sio\n",
    "import numpy as np\n",
    "import matplotlib.pyplot as plt\n",
    "from math import cos\n",
    "from math import sin\n",
    "from math import sqrt\n",
    "from scipy.optimize import least_squares\n",
    "from scipy.optimize import minimize\n",
    "import time\n",
    "%matplotlib inline"
   ]
  },
  {
   "cell_type": "markdown",
   "metadata": {},
   "source": [
    "### Task 1"
   ]
  },
  {
   "cell_type": "markdown",
   "metadata": {},
   "source": [
    "The main idea: Denote $x_r$ and $x_b$ -- arrays from $x$-coordinates for robots and beacons positions. For every observation $i$ we know $x[i]$, indexes $k,m$ such that the following equation holds: $x_r[k] - x_b[m] = x[i]$. Thus, we can write the whole system $A[x_r,x_b] = x$ and solve it by lstsq. The same with $y-$s."
   ]
  },
  {
   "cell_type": "code",
   "execution_count": 42,
   "metadata": {
    "collapsed": true
   },
   "outputs": [],
   "source": [
    "mat_contents = sio.loadmat('task1.mat')"
   ]
  },
  {
   "cell_type": "code",
   "execution_count": 43,
   "metadata": {
    "collapsed": true
   },
   "outputs": [],
   "source": [
    "beacons = mat_contents['beacons']\n",
    "robots = mat_contents['robots']\n",
    "dx = mat_contents['x']\n",
    "dy = mat_contents['y']"
   ]
  },
  {
   "cell_type": "code",
   "execution_count": 44,
   "metadata": {
    "collapsed": true
   },
   "outputs": [],
   "source": [
    "N = beacons.shape[0] # number of observations\n",
    "n_stops = len(np.unique(robots))\n",
    "n_beacons = len(np.unique(beacons))"
   ]
  },
  {
   "cell_type": "code",
   "execution_count": 45,
   "metadata": {
    "collapsed": true
   },
   "outputs": [],
   "source": [
    "A = np.zeros((N, n_stops + n_beacons))\n",
    "for i in range(N):\n",
    "    stop = robots[i] - 1\n",
    "    beacon = beacons[i] - 1\n",
    "    A[i,stop] = -1\n",
    "    A[i,n_stops + beacon] = 1"
   ]
  },
  {
   "cell_type": "code",
   "execution_count": 46,
   "metadata": {
    "collapsed": true
   },
   "outputs": [],
   "source": [
    "x = np.linalg.lstsq(A, dx)[0] #x[:n_stops] -- robot positions, x[n_stops:] -- beacon positions\n",
    "y = np.linalg.lstsq(A, dy)[0]"
   ]
  },
  {
   "cell_type": "code",
   "execution_count": 47,
   "metadata": {
    "collapsed": true
   },
   "outputs": [],
   "source": [
    "x_r = x[:n_stops]\n",
    "x_b = x[n_stops:]\n",
    "y_r = y[:n_stops]\n",
    "y_b = y[n_stops:]"
   ]
  },
  {
   "cell_type": "code",
   "execution_count": 48,
   "metadata": {},
   "outputs": [
    {
     "data": {
      "text/plain": [
       "<matplotlib.legend.Legend at 0x115a32ac8>"
      ]
     },
     "execution_count": 48,
     "metadata": {},
     "output_type": "execute_result"
    },
    {
     "data": {
      "image/png": "[encoded data removed]",
      "text/plain": [
       "<matplotlib.figure.Figure at 0x1159889e8>"
      ]
     },
     "metadata": {},
     "output_type": "display_data"
    }
   ],
   "source": [
    "plt.figure(figsize=(10,6))\n",
    "plt.scatter(x_b, y_b, c='red', label='robot', s=50)\n",
    "plt.scatter(x_r, y_r, c='navy', label = 'beacons', s=50)\n",
    "plt.legend()"
   ]
  },
  {
   "cell_type": "markdown",
   "metadata": {},
   "source": [
    "If use explicit inversion of matrix:"
   ]
  },
  {
   "cell_type": "code",
   "execution_count": 49,
   "metadata": {
    "collapsed": true
   },
   "outputs": [],
   "source": [
    "A_1 = np.linalg.inv(A.T@A)"
   ]
  },
  {
   "cell_type": "code",
   "execution_count": 50,
   "metadata": {
    "collapsed": true
   },
   "outputs": [],
   "source": [
    "x_1 = A_1@A.T@dx\n",
    "y_1 = A_1@A.T@dy"
   ]
  },
  {
   "cell_type": "code",
   "execution_count": 51,
   "metadata": {
    "collapsed": true
   },
   "outputs": [],
   "source": [
    "x_r_1 = x_1[:n_stops]\n",
    "x_b_1 = x_1[n_stops:]\n",
    "y_r_1 = y_1[:n_stops]\n",
    "y_b_1 = y_1[n_stops:]"
   ]
  },
  {
   "cell_type": "code",
   "execution_count": 52,
   "metadata": {},
   "outputs": [
    {
     "data": {
      "text/plain": [
       "<matplotlib.legend.Legend at 0x115a95f98>"
      ]
     },
     "execution_count": 52,
     "metadata": {},
     "output_type": "execute_result"
    },
    {
     "data": {
      "image/png": "[encoded data removed]",
      "text/plain": [
       "<matplotlib.figure.Figure at 0x115a1ee48>"
      ]
     },
     "metadata": {},
     "output_type": "display_data"
    }
   ],
   "source": [
    "plt.figure(figsize=(10,6))\n",
    "plt.scatter(x_b_1, y_b_1, c='red', label='robot', s=50)\n",
    "plt.scatter(x_r_1, y_r_1, c='navy', label = 'beacons', s=50)\n",
    "plt.legend()"
   ]
  },
  {
   "cell_type": "markdown",
   "metadata": {},
   "source": [
    "### Task 2"
   ]
  },
  {
   "cell_type": "markdown",
   "metadata": {},
   "source": [
    "Denote $x\\_r$ and $x\\_b$ -- arrays from $x$-coordinates for robots and beacons positions. Same with $y\\_r, y\\_b$. Also denote $a$ -- array from angles.\n",
    "\n",
    "We want to minimize the following functions ($N$-- number of observations):\n",
    "$$\n",
    "i = 0,\\dots,N-1,\\\\\n",
    "f_i = x\\_r_{robots[i]} + dx_i\\cos({a_i}) + dy_i\\sin({a_i}) - x\\_b_{beacons[i]}\\\\\n",
    "f_{N+i} = y\\_r_{robots[i]} - dx_i\\sin({a_i}) + dx_i\\cos({a_i}) - y\\_b_{beacons[i]}\\\\\n",
    "$$\n",
    "\n",
    "We want to use ```scipy.optimize.least_squares``` function, so let us define what is $w, f, J(f)$.\n",
    "\n",
    "Let $f = (f_0,\\dots,f_{2N-1})$, $w = (x\\_r, y\\_r, x\\_b, y\\_b, a)$.\n",
    "\n",
    "Let's compute Jacobian, there are the following non-zero elements:\n",
    "$$\n",
    "i = 0,\\dots,N-1,\\\\\n",
    "\\frac{\\partial f_i}{\\partial x\\_r_{robots[i]}} = 1,\\\\\n",
    "\\frac{\\partial f_{N+i}}{\\partial y\\_r_{robots[i]}} = 1,\\\\\n",
    "\\frac{\\partial f_i}{\\partial x\\_r_{beacons[i]}} = -1,\\\\\n",
    "\\frac{\\partial f_{N+i}}{\\partial y\\_r_{beacons[i]}} = -1,\\\\\n",
    "\\frac{\\partial f_i}{\\partial a_i} = -dx_i*sin(a_{stop})+dy_i*cos(a_{stop}),\\\\\n",
    "\\frac{\\partial f_{N+i}}{\\partial a_i} = -dx_i*sin(a_{stop}) + dy_i*cos(a_{stop}).\\\\\n",
    "$$"
   ]
  },
  {
   "cell_type": "code",
   "execution_count": 53,
   "metadata": {
    "collapsed": true
   },
   "outputs": [],
   "source": [
    "mat_contents = sio.loadmat('task2.mat')"
   ]
  },
  {
   "cell_type": "code",
   "execution_count": 54,
   "metadata": {
    "collapsed": true
   },
   "outputs": [],
   "source": [
    "beacons = mat_contents['beacons']\n",
    "robots = mat_contents['robots']\n",
    "dx = mat_contents['x']\n",
    "dy = mat_contents['y']"
   ]
  },
  {
   "cell_type": "code",
   "execution_count": 55,
   "metadata": {
    "collapsed": true
   },
   "outputs": [],
   "source": [
    "N = beacons.shape[0] # number of observations\n",
    "n_stops = len(np.unique(robots))\n",
    "n_beacons = len(np.unique(beacons))"
   ]
  },
  {
   "cell_type": "code",
   "execution_count": 3,
   "metadata": {
    "collapsed": true
   },
   "outputs": [],
   "source": [
    "def function(w, dx, dy):\n",
    "    # w = (x_r, y_r, x_b, y_b, a)\n",
    "    # N - number of observations\n",
    "    # n_stops\n",
    "    # n_beacons\n",
    "    fun = np.zeros(2*N)\n",
    "    for i in range(N):\n",
    "        stop = robots[i] - 1\n",
    "        beac = beacons[i] - 1\n",
    "        x_r = w[:n_stops]\n",
    "        y_r = w[n_stops:2*n_stops]\n",
    "        x_b = w[2*n_stops:2*n_stops+n_beacons]\n",
    "        y_b = w[2*n_stops+n_beacons:2*n_stops+2*n_beacons]\n",
    "        a = w[2*n_stops+2*n_beacons:]\n",
    "        fun[i] = x_r[stop] + (dx[i]*cos(a[stop]) + dy[i]*sin(a[stop])) - x_b[beac]\n",
    "        j = N + i\n",
    "        fun[j] = y_r[stop] + (-dx[i]*sin(a[stop]) + dy[i]*cos(a[stop])) - y_b[beac]\n",
    "    return fun\n",
    "\n",
    "def jacob_function(w, dx, dy):\n",
    "    x_r = w[:n_stops]\n",
    "    y_r = w[n_stops:2*n_stops]\n",
    "    x_b = w[2*n_stops:2*n_stops+n_beacons]\n",
    "    y_b = w[2*n_stops+n_beacons:2*n_stops+2*n_beacons]\n",
    "    a = w[2*n_stops+2*n_beacons:]\n",
    "    n_alphas = n_stops\n",
    "    jac = np.zeros((2*N,2*n_stops + 2*n_beacons + n_alphas))\n",
    "    for i in range(N):\n",
    "        stop = robots[i] - 1\n",
    "        beac = beacons[i] - 1\n",
    "        jac[i,stop] = 1\n",
    "        jac[N+i,n_stops+stop] = 1\n",
    "        jac[i,2*n_stops+beac] = -1\n",
    "        jac[N+i, 2*n_stops+n_beacons+beac] = -1\n",
    "        jac[i, 2*n_stops+2*n_beacons+stop] = -dx[i]*sin(a[stop])+dy[i]*cos(a[stop])\n",
    "        jac[N+i, 2*n_stops+2*n_beacons+stop] = -dx[i]*cos(a[stop])-dy[i]*sin(a[stop])\n",
    "    return jac"
   ]
  },
  {
   "cell_type": "code",
   "execution_count": 57,
   "metadata": {
    "collapsed": true
   },
   "outputs": [],
   "source": [
    "# solve\n",
    "w_0 = np.random.normal(size=[3*n_stops+2*n_beacons])\n",
    "res = least_squares(function, w_0, jacob_function, args=(dx,dy), method='lm')"
   ]
  },
  {
   "cell_type": "code",
   "execution_count": 58,
   "metadata": {
    "collapsed": true
   },
   "outputs": [],
   "source": [
    "w = res.x\n",
    "x_r = w[:n_stops]\n",
    "y_r = w[n_stops:2*n_stops]\n",
    "x_b = w[2*n_stops:2*n_stops+n_beacons]\n",
    "y_b = w[2*n_stops+n_beacons:2*n_stops+2*n_beacons]\n",
    "a = w[2*n_stops+2*n_beacons:]"
   ]
  },
  {
   "cell_type": "code",
   "execution_count": 59,
   "metadata": {},
   "outputs": [
    {
     "data": {
      "text/plain": [
       "<matplotlib.legend.Legend at 0x115cc32b0>"
      ]
     },
     "execution_count": 59,
     "metadata": {},
     "output_type": "execute_result"
    },
    {
     "data": {
      "image/png": "[encoded data removed]",
      "text/plain": [
       "<matplotlib.figure.Figure at 0x115a46390>"
      ]
     },
     "metadata": {},
     "output_type": "display_data"
    }
   ],
   "source": [
    "plt.figure(figsize=(10,6))\n",
    "plt.scatter(x_b, y_b, c='red', label='robot', s=50)\n",
    "plt.scatter(x_r, y_r, c='navy', label = 'beacons', s=50)\n",
    "plt.legend()"
   ]
  },
  {
   "cell_type": "code",
   "execution_count": 60,
   "metadata": {},
   "outputs": [
    {
     "name": "stdout",
     "output_type": "stream",
     "text": [
      "robot orientations\n",
      " [-0.0990131   0.18303888  0.95394675  0.74233895 -0.30841913  0.54651899\n",
      " -0.30935797 -0.19866623  0.01460282  0.46632822 -0.07100509  0.23364648\n",
      "  0.34469109  0.06646976  0.7316161   0.86824277 -0.46130047 -0.18600456\n",
      "  0.07146174  0.50162577 -0.28598811  0.27590108  0.78377047  0.56336696\n",
      "  0.52907291 -0.12742373  0.87227274  0.32305248  0.10685639  0.23311044\n",
      "  0.4899577  -0.42559243 -0.43749589 -0.10902639  0.56463686]\n"
     ]
    }
   ],
   "source": [
    "print('robot orientations\\n',a)"
   ]
  },
  {
   "cell_type": "markdown",
   "metadata": {},
   "source": [
    "### Task 3\n",
    "\n",
    "First, try to implement solution from the previous task."
   ]
  },
  {
   "cell_type": "code",
   "execution_count": 11,
   "metadata": {
    "collapsed": true
   },
   "outputs": [],
   "source": [
    "mat_contents = sio.loadmat('task3.mat')"
   ]
  },
  {
   "cell_type": "code",
   "execution_count": 12,
   "metadata": {
    "collapsed": true
   },
   "outputs": [],
   "source": [
    "beacons = mat_contents['beacons']\n",
    "robots = mat_contents['robots']\n",
    "dx = mat_contents['x']\n",
    "dy = mat_contents['y']"
   ]
  },
  {
   "cell_type": "code",
   "execution_count": 13,
   "metadata": {},
   "outputs": [
    {
     "data": {
      "text/plain": [
       "(460, 46, 60)"
      ]
     },
     "execution_count": 13,
     "metadata": {},
     "output_type": "execute_result"
    }
   ],
   "source": [
    "N = beacons.shape[0] # number of observations\n",
    "n_stops = len(np.unique(robots))\n",
    "n_beacons = len(np.unique(beacons))\n",
    "N, n_stops, n_beacons"
   ]
  },
  {
   "cell_type": "code",
   "execution_count": 14,
   "metadata": {
    "collapsed": true
   },
   "outputs": [],
   "source": [
    "# solve\n",
    "w_0 = np.random.normal(size=[3*n_stops+2*n_beacons])\n",
    "res = least_squares(function, w_0, jacob_function, args=(dx,dy), method='lm')"
   ]
  },
  {
   "cell_type": "code",
   "execution_count": 15,
   "metadata": {
    "collapsed": true
   },
   "outputs": [],
   "source": [
    "w = res.x\n",
    "x_r = w[:n_stops]\n",
    "y_r = w[n_stops:2*n_stops]\n",
    "x_b = w[2*n_stops:2*n_stops+n_beacons]\n",
    "y_b = w[2*n_stops+n_beacons:2*n_stops+2*n_beacons]\n",
    "a = w[2*n_stops+2*n_beacons:]"
   ]
  },
  {
   "cell_type": "code",
   "execution_count": 16,
   "metadata": {},
   "outputs": [
    {
     "name": "stdout",
     "output_type": "stream",
     "text": [
      "Solution like in the 2nd task does not work well\n"
     ]
    },
    {
     "data": {
      "text/plain": [
       "<matplotlib.legend.Legend at 0x19edd950c18>"
      ]
     },
     "execution_count": 16,
     "metadata": {},
     "output_type": "execute_result"
    },
    {
     "data": {
      "image/png": "[encoded data removed]",
      "text/plain": [
       "<matplotlib.figure.Figure at 0x19edd7fee80>"
      ]
     },
     "metadata": {},
     "output_type": "display_data"
    }
   ],
   "source": [
    "plt.figure(figsize=(10,6))\n",
    "print('Solution like in the 2nd task does not work well')\n",
    "plt.scatter(x_b, y_b, c='red', label='robot', s=50)\n",
    "plt.scatter(x_r, y_r, c='navy', label = 'beacons', s=50)\n",
    "plt.legend()"
   ]
  },
  {
   "cell_type": "markdown",
   "metadata": {},
   "source": [
    "The result is not impressive. New robust solution:\n",
    "\n",
    "Every $f_i$ replace by $h(f_i)$, where $h(u)$:\n",
    "$$\n",
    "h(u) =\\begin{cases}\n",
    "\\frac{u^2}{2}, & \\vert u \\vert\\leq M\\\\\n",
    "M(\\vert u \\vert-\\frac{M}{2}), & \\vert u \\vert>M\n",
    "\\end{cases}\n",
    "$$"
   ]
  },
  {
   "cell_type": "code",
   "execution_count": 44,
   "metadata": {
    "collapsed": true
   },
   "outputs": [],
   "source": [
    "M = 1.0\n",
    "def scalar_function(w, dx, dy):\n",
    "    error = np.abs(function(w, dx, dy))\n",
    "    error[error < M] = error[error < M]**2 / 2\n",
    "    error[error >= M] = M*(error[error >= M] - M/2)\n",
    "    return np.sum(error)"
   ]
  },
  {
   "cell_type": "code",
   "execution_count": 80,
   "metadata": {},
   "outputs": [
    {
     "name": "stdout",
     "output_type": "stream",
     "text": [
      "time elapsed 688.9626107215881\n"
     ]
    }
   ],
   "source": [
    "# initial solution w is the previous one\n",
    "start = time.time()\n",
    "res = minimize(fun=scalar_function, x0=w, args=(dx,dy), method='BFGS', options={'maxiter': 200})\n",
    "end = time.time()\n",
    "print('time elapsed {}'.format(end - start))"
   ]
  },
  {
   "cell_type": "code",
   "execution_count": 81,
   "metadata": {
    "collapsed": true
   },
   "outputs": [],
   "source": [
    "w = res.x\n",
    "x_r = w[:n_stops]\n",
    "y_r = w[n_stops:2*n_stops]\n",
    "x_b = w[2*n_stops:2*n_stops+n_beacons]\n",
    "y_b = w[2*n_stops+n_beacons:2*n_stops+2*n_beacons]\n",
    "a = w[2*n_stops+2*n_beacons:]"
   ]
  },
  {
   "cell_type": "code",
   "execution_count": 82,
   "metadata": {},
   "outputs": [
    {
     "data": {
      "text/plain": [
       "<matplotlib.legend.Legend at 0x1165f9fd0>"
      ]
     },
     "execution_count": 82,
     "metadata": {},
     "output_type": "execute_result"
    },
    {
     "data": {
      "image/png": "[encoded data removed]",
      "text/plain": [
       "<matplotlib.figure.Figure at 0x115f6e048>"
      ]
     },
     "metadata": {},
     "output_type": "display_data"
    }
   ],
   "source": [
    "plt.figure(figsize=(10,6))\n",
    "plt.scatter(x_b, y_b, c = 'red', label = 'robot', s = 50)\n",
    "plt.scatter(x_r, y_r, c = 'navy', label = 'beacons', s = 50)\n",
    "plt.legend()"
   ]
  }
 ],
 "metadata": {
  "kernelspec": {
   "display_name": "Python3.5",
   "language": "python",
   "name": "python3.5"
  },
  "language_info": {
   "codemirror_mode": {
    "name": "ipython",
    "version": 3
   },
   "file_extension": ".py",
   "mimetype": "text/x-python",
   "name": "python",
   "nbconvert_exporter": "python",
   "pygments_lexer": "ipython3",
   "version": "3.5.4"
  },
  "widgets": {
   "state": {},
   "version": "1.1.1"
  }
 },
 "nbformat": 4,
 "nbformat_minor": 2
}
