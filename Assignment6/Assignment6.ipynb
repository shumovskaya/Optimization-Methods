{
 "cells": [
  {
   "cell_type": "markdown",
   "metadata": {},
   "source": [
    "# Shumovskaia Valentina. Assignment #6.\n",
    "\n",
    "## Task 1.\n",
    "\n",
    "Initial problem:\n",
    "$$\n",
    "\\textrm{minimize } c^\\top x\\\\\n",
    "\\textrm{subject to } Ax \\leq b.\n",
    "$$\n",
    "\n",
    "It converts to:\n",
    "$$\n",
    "\\textrm{minimize } F = tc^\\top x + \\phi(x),\\\\\n",
    "\\textrm{where }\\phi(x) = -\\sum_{i=1}^{m}\\log(b_i-a^\\top_ix)\n",
    "$$\n",
    "\n",
    "#####  Solution: \n",
    "\n",
    "Set $x = x_{0} = \\begin{bmatrix} 0\\\\0\\end{bmatrix}, t = 1$.\n",
    "\n",
    "Repeat while duality gap is greater than $\\varepsilon$:\n",
    "\n",
    "1. Centering step.\n",
    "Compute new $x^*$ by minimizing $F$ by Newtone method.\n",
    "2. Update. $x = x$.\n",
    "3. $t = \\mu t$.\n",
    "\n",
    "To implement Newtone's method: $\\nabla \\phi(x) = \\sum_{i=1}^m \\frac{1}{b_i-a_i^\\top x}a_i = A^\\top d,$ where $d_i = \\frac{1}{b_i-a_i^\\top x}.$\n",
    "\n",
    "$\\nabla^2 \\phi(x) = \\sum_{i=1}^m\\frac{1}{(b_i-a_i^\\top x)^2}a_ia_i^\\top = A^\\top \\textrm{diag}(d)^2A.$\n",
    "\n",
    "Also denote $f_0(x) = c^\\top x$, $f_i(x) = b_i - a_i^\\top x.$"
   ]
  },
  {
   "cell_type": "code",
   "execution_count": 1,
   "metadata": {
    "collapsed": true
   },
   "outputs": [],
   "source": [
    "import numpy as np\n",
    "import matplotlib.pyplot as plt\n",
    "%matplotlib inline"
   ]
  },
  {
   "cell_type": "code",
   "execution_count": 2,
   "metadata": {
    "collapsed": true
   },
   "outputs": [],
   "source": [
    "#justtocheck\n",
    "import cvxpy as cvx"
   ]
  },
  {
   "cell_type": "code",
   "execution_count": 3,
   "metadata": {
    "collapsed": true
   },
   "outputs": [],
   "source": [
    "class solver():\n",
    "    def __init__(self, A, b, c, mu=1.5, gamma=0.0001, eps=1e-6, eps_n=1e-6):\n",
    "        \"\"\"Class initialization.\n",
    "\n",
    "        Args:\n",
    "            A (numpy array): Matrix A from LP problem.\n",
    "            b (numpy array): Matrix b from LP problem.\n",
    "            c (numpy array): Matrix c from LP problem.\n",
    "            mu (float): barier method parameter.\n",
    "            gamma (float): Newton method parameter.\n",
    "            eps (float): barier method tolerance.\n",
    "            eps_n (float) Newtone method tolerance.\n",
    "        \"\"\"\n",
    "        self.A = A\n",
    "        self.b = b\n",
    "        self.c = c\n",
    "        self.m = b.shape[0]\n",
    "        self.t = 1.\n",
    "        self.mu = mu\n",
    "        self.gamma = gamma\n",
    "        self.eps = eps\n",
    "        self.eps_n = eps_n\n",
    "    \n",
    "    def f_0(self, x):\n",
    "        \"\"\"Value of f_0(x).\n",
    "\n",
    "        Args:\n",
    "            x (numpy array): parameter for function f_0 computation.\n",
    "            \n",
    "        Returns:\n",
    "            numpy array: f_0(x) value.\n",
    "        \"\"\"\n",
    "        return self.c.T@x\n",
    "        \n",
    "    def f_i(self, x, i):\n",
    "        \"\"\"Value of f_i(x).\n",
    "\n",
    "        Args:\n",
    "            x (numpy array): parameter for function f_i computation.\n",
    "            i (int): index of f_i.\n",
    "            \n",
    "        Returns:\n",
    "            numpy array: f_i(x) value\n",
    "        \"\"\"\n",
    "        return self.b[i] - self.A[i].T@x\n",
    "    \n",
    "    def phi(self, x):\n",
    "        \"\"\"Value of phi(x).\n",
    "\n",
    "        Args:\n",
    "            x (numpy array): parameter for function phi computation.\n",
    "            \n",
    "        Returns:\n",
    "            numpy array: phi(x) value.\n",
    "        \"\"\"\n",
    "        phi = 0\n",
    "        for i in range(self.m):\n",
    "            phi -= np.log(self.f_i(x, i))\n",
    "        return phi\n",
    "    \n",
    "    def d(self, x):\n",
    "        \"\"\"Value of d.\n",
    "\n",
    "        Args:\n",
    "            x (numpy array): parameter for computation of d.\n",
    "            \n",
    "        Returns:\n",
    "            numpy array: d.\n",
    "        \"\"\"        \n",
    "        d = np.zeros(self.m)\n",
    "        for i in range(self.m):\n",
    "            d[i] = 1./self.f_i(x, i)\n",
    "        return d\n",
    "    \n",
    "    def grad_phi(self, x):\n",
    "        \"\"\"Value of gradient(phi(x)).\n",
    "\n",
    "        Args:\n",
    "            x (numpy array): parameter for function gradient phi computation.\n",
    "            \n",
    "        Returns:\n",
    "            numpy array: value of gradient(phi(x)).\n",
    "        \"\"\"        \n",
    "        d = self.d(x)\n",
    "        return A.T@d\n",
    "    \n",
    "    def hess_phi(self, x):\n",
    "        \"\"\"Value of gradient(phi(x)).\n",
    "\n",
    "        Args:\n",
    "            x (numpy array): parameter for function gradient phi computation.\n",
    "            \n",
    "        Returns:\n",
    "            numpy array: value of gradient(phi(x)).\n",
    "        \"\"\"    \n",
    "        D = np.diag(self.d(x))\n",
    "        D = D@D\n",
    "        return self.A.T@D@self.A\n",
    "    \n",
    "    def grad_F(self, x):\n",
    "        \"\"\"Value of gradient(F(x)).\n",
    "\n",
    "        Args:\n",
    "            x (numpy array): parameter for function gradient F computation.\n",
    "            \n",
    "        Returns:\n",
    "            numpy array: value of gradient(F(x)).\n",
    "        \"\"\"    \n",
    "        return self.t*self.c.reshape(-1) + self.A.T@self.d(x)\n",
    "    \n",
    "    def hess_F(self, x):\n",
    "        \"\"\"Value of Hessian(F(x)).\n",
    "\n",
    "        Args:\n",
    "            x (numpy array): parameter for function Hessian F computation.\n",
    "            \n",
    "        Returns:\n",
    "            numpy array: value of Hessian(F(x)).\n",
    "        \"\"\"    \n",
    "        return self.hess_phi(x)\n",
    "    \n",
    "    def duality_gap(self):\n",
    "        \"\"\"Duality gap\n",
    "        \n",
    "        Returns:\n",
    "            float: duality gap value.\n",
    "        \"\"\"\n",
    "        return self.m/self.t\n",
    "\n",
    "    def Newton(self, x_old):\n",
    "        \"\"\"Newton method\n",
    "        \n",
    "        Args:\n",
    "            x_old (numpy array): initial value of x\n",
    "        \n",
    "        Returns:\n",
    "            numpy array: new value of x after Newton's method implementation.\n",
    "        \"\"\"        \n",
    "        inv_hess_F = np.linalg.inv(self.hess_F(x_old))\n",
    "        grad_F = self.grad_F(x_old)\n",
    "        x_new = x_old - self.gamma*inv_hess_F@grad_F\n",
    "        while np.linalg.norm(x_new - x_old) > self.eps_n:\n",
    "            x_old = x_new\n",
    "            inv_hess_F = np.linalg.inv(self.hess_F(x_old))\n",
    "            grad_F = self.grad_F(x_old)\n",
    "            x_new = x_old - self.gamma*inv_hess_F@grad_F\n",
    "        return x_new\n",
    "    \n",
    "    def barrier_method(self):\n",
    "        \"\"\"Barrier method\n",
    "        \n",
    "        Returns:\n",
    "            numpy array: solution of LP: the first value is x*_1, the second value is x*_2.\n",
    "            numpy array: values of x_1 on every step.\n",
    "            numpy array: values of x_2 on every step.\n",
    "        \"\"\"    \n",
    "        x = np.zeros(self.c.shape[0])\n",
    "        xs_x1 = [x[0]]\n",
    "        xs_x2 = [x[1]]\n",
    "        while self.duality_gap() > self.eps:\n",
    "            x = self.Newton(x)\n",
    "            xs_x1.append(x[0])\n",
    "            xs_x2.append(x[1])\n",
    "            self.t *= self.mu\n",
    "        return x, np.array(xs_x1), np.array(xs_x2) \n",
    "    \n",
    "    def visualize(self, xs_x1, xs_x2, ndots=80):\n",
    "        \"\"\"Visualization of Barrier's method: plots the domain and values of x on every step.\n",
    "        \n",
    "        Args:\n",
    "            x (numpy array): solution of LP: the first value is x*_1, the second value is x*_2.\n",
    "            x_1 (numpy array): values of x_1 on every step.\n",
    "            x_2 (numpy array): values of x_2 on every step.\n",
    "        \n",
    "        \"\"\"\n",
    "        plt.figure(figsize=(13,10))\n",
    "        #plt.xlim(-1.2, 1.2)\n",
    "        #plt.ylim(-1.2, 1.2)        \n",
    "        x, y = np.mgrid[-1:1:2.0/ndots, -1:1:2.0/ndots]\n",
    "        for i in range(x.shape[0]):\n",
    "            for j in range(x.shape[1]):\n",
    "                dot = np.array([x[i,j], y[i,j]])\n",
    "                if np.all(self.A@dot <= self.b):\n",
    "                    plt.scatter(x[i,j], y[i,j], c='pink', s=70)\n",
    "        plt.scatter(xs_x1, xs_x2, c='c', s=70)\n",
    "        #plt.ylabel('x_2')\n",
    "        #plt.xlabel('x_1')"
   ]
  },
  {
   "cell_type": "code",
   "execution_count": 4,
   "metadata": {
    "collapsed": true
   },
   "outputs": [],
   "source": [
    "A = np.array([[ 1.,  0.],[-1.,  0.],[ 0.,  1.],[ 0., -1.]])\n",
    "b = np.array([1.,1.,1.,1.])\n",
    "c = np.array([[3.],[-2.]])"
   ]
  },
  {
   "cell_type": "code",
   "execution_count": 5,
   "metadata": {},
   "outputs": [
    {
     "data": {
      "text/plain": [
       "(matrix([[-1.],\n",
       "         [ 1.]]), -4.999999983286334)"
      ]
     },
     "execution_count": 5,
     "metadata": {},
     "output_type": "execute_result"
    }
   ],
   "source": [
    "#justtocheck\n",
    "x = cvx.Variable(c.shape[0])\n",
    "obj = cvx.Minimize(c.T*x)\n",
    "constraints = [A@x<=b]\n",
    "prob = cvx.Problem(obj,constraints)\n",
    "prob.solve()\n",
    "x.value, prob.value"
   ]
  },
  {
   "cell_type": "code",
   "execution_count": 6,
   "metadata": {
    "collapsed": true
   },
   "outputs": [],
   "source": [
    "s = solver(A, b, c)"
   ]
  },
  {
   "cell_type": "code",
   "execution_count": 7,
   "metadata": {
    "collapsed": true
   },
   "outputs": [],
   "source": [
    "x, xs_x, xs_y = s.barrier_method()"
   ]
  },
  {
   "cell_type": "code",
   "execution_count": 8,
   "metadata": {},
   "outputs": [
    {
     "data": {
      "text/plain": [
       "array([-0.99997686,  0.9999653 ])"
      ]
     },
     "execution_count": 8,
     "metadata": {},
     "output_type": "execute_result"
    },
    {
     "data": {
      "image/png": "[encoded data removed]",
      "text/plain": [
       "<matplotlib.figure.Figure at 0x1137c4390>"
      ]
     },
     "metadata": {},
     "output_type": "display_data"
    }
   ],
   "source": [
    "s.visualize(xs_x, xs_y)\n",
    "x"
   ]
  },
  {
   "cell_type": "code",
   "execution_count": 9,
   "metadata": {
    "collapsed": true
   },
   "outputs": [],
   "source": [
    "A = np.array([[-1.,  0.],[ 0.,  1],[ 0., -1.]])\n",
    "b = np.array([1.,.5,1.])\n",
    "c = np.array([[1.],[.3]])"
   ]
  },
  {
   "cell_type": "code",
   "execution_count": 10,
   "metadata": {},
   "outputs": [
    {
     "data": {
      "text/plain": [
       "(matrix([[-1.],\n",
       "         [-1.]]), -1.299999999918469)"
      ]
     },
     "execution_count": 10,
     "metadata": {},
     "output_type": "execute_result"
    }
   ],
   "source": [
    "#justtocheck\n",
    "x = cvx.Variable(c.shape[0])\n",
    "obj = cvx.Minimize(c.T*x)\n",
    "constraints = [A@x<=b]\n",
    "prob = cvx.Problem(obj,constraints)\n",
    "prob.solve()\n",
    "x.value, prob.value"
   ]
  },
  {
   "cell_type": "code",
   "execution_count": 11,
   "metadata": {},
   "outputs": [
    {
     "data": {
      "text/plain": [
       "array([-0.99996394, -0.99987981])"
      ]
     },
     "execution_count": 11,
     "metadata": {},
     "output_type": "execute_result"
    },
    {
     "data": {
      "image/png": "[encoded data removed]",
      "text/plain": [
       "<matplotlib.figure.Figure at 0x117cacb00>"
      ]
     },
     "metadata": {},
     "output_type": "display_data"
    }
   ],
   "source": [
    "s = solver(A, b, c)\n",
    "x, xs_x, xs_y = s.barrier_method()\n",
    "s.visualize(xs_x, xs_y)\n",
    "x"
   ]
  },
  {
   "cell_type": "code",
   "execution_count": 12,
   "metadata": {
    "collapsed": true
   },
   "outputs": [],
   "source": [
    "A = np.array([[ 1.,  0.8],[-1,  0.3],[ 0.,  1.]])\n",
    "b = np.array([1.,1.,.5])\n",
    "c = np.array([[1.],[-2.]])"
   ]
  },
  {
   "cell_type": "code",
   "execution_count": 13,
   "metadata": {},
   "outputs": [
    {
     "data": {
      "text/plain": [
       "(matrix([[-0.85],\n",
       "         [ 0.5 ]]), -1.8500000013572258)"
      ]
     },
     "execution_count": 13,
     "metadata": {},
     "output_type": "execute_result"
    }
   ],
   "source": [
    "#justtocheck\n",
    "x = cvx.Variable(c.shape[0])\n",
    "obj = cvx.Minimize(c.T*x)\n",
    "constraints = [A@x<=b]\n",
    "prob = cvx.Problem(obj,constraints)\n",
    "prob.solve()\n",
    "x.value, prob.value"
   ]
  },
  {
   "cell_type": "code",
   "execution_count": 14,
   "metadata": {},
   "outputs": [
    {
     "data": {
      "text/plain": [
       "array([-0.84994572,  0.49996122])"
      ]
     },
     "execution_count": 14,
     "metadata": {},
     "output_type": "execute_result"
    },
    {
     "data": {
      "image/png": "[encoded data removed]",
      "text/plain": [
       "<matplotlib.figure.Figure at 0x1137affd0>"
      ]
     },
     "metadata": {},
     "output_type": "display_data"
    }
   ],
   "source": [
    "s = solver(A, b, c, mu=1.5, gamma=0.0001)\n",
    "x, xs_x, xs_y = s.barrier_method()\n",
    "s.visualize(xs_x, xs_y)\n",
    "x"
   ]
  },
  {
   "cell_type": "code",
   "execution_count": 15,
   "metadata": {
    "collapsed": true
   },
   "outputs": [],
   "source": [
    "A = np.array([[ 1.,  0.8],[-1,  0.3],[ 0.7,  1.]])\n",
    "b = np.array([1.,1.,.5])\n",
    "c = np.array([[0.7],[-1.8]])"
   ]
  },
  {
   "cell_type": "code",
   "execution_count": 16,
   "metadata": {},
   "outputs": [
    {
     "data": {
      "text/plain": [
       "(matrix([[-0.70247934],\n",
       "         [ 0.99173554]]), -2.2768595053793144)"
      ]
     },
     "execution_count": 16,
     "metadata": {},
     "output_type": "execute_result"
    }
   ],
   "source": [
    "#justtocheck\n",
    "x = cvx.Variable(c.shape[0])\n",
    "obj = cvx.Minimize(c.T*x)\n",
    "constraints = [A@x<=b]\n",
    "prob = cvx.Problem(obj,constraints)\n",
    "prob.solve()\n",
    "x.value, prob.value"
   ]
  },
  {
   "cell_type": "code",
   "execution_count": 17,
   "metadata": {},
   "outputs": [
    {
     "data": {
      "text/plain": [
       "array([-0.70245834,  0.99167112])"
      ]
     },
     "execution_count": 17,
     "metadata": {},
     "output_type": "execute_result"
    },
    {
     "data": {
      "image/png": "[encoded data removed]",
      "text/plain": [
       "<matplotlib.figure.Figure at 0x116e25eb8>"
      ]
     },
     "metadata": {},
     "output_type": "display_data"
    }
   ],
   "source": [
    "s = solver(A, b, c, mu=1.5, gamma=0.0001)\n",
    "x, xs_x, xs_y = s.barrier_method()\n",
    "s.visualize(xs_x, xs_y)\n",
    "x"
   ]
  },
  {
   "cell_type": "markdown",
   "metadata": {},
   "source": [
    "## Task 2.\n"
   ]
  },
  {
   "cell_type": "markdown",
   "metadata": {},
   "source": [
    "Denote $x = (x_1,\\dots,x_N), x_i = \\mathbb{1}\\{\\textrm{there is a depot in the city}_i\\}$,\n",
    "\n",
    "$A -$ adjacency weighted matrix: $A_{ij} = \\{\\textrm{profit on a road between cities }i, j\\}$\n",
    "\n",
    "Our problem: \n",
    "\n",
    "$$\n",
    "\\textrm{maximize } \\sum_{i=1}^N\\sum_{j=1}^NA_{ij}\\max\\{0, x_i+x_j-1\\} - 10\\sum_{i=1}^N x_i\\\\\n",
    "\\textrm{subject to } x_i \\in \\{0,1\\}, i = 1,\\dots,N.\\\\\n",
    "\\\\\n",
    "\\Leftrightarrow\\\\\n",
    "\\\\\n",
    "\\textrm{maximize } \\sum_{i=1}^N\\sum_{j=1}^NA_{ij}\\max\\{0, x_i-x_j\\} + \\sum_{i=1}^N\\big(\\sum_{i=1}^NA_{ij} - 10\\big) x_i\\\\\n",
    "\\textrm{subject to } x_i \\in \\{0,1\\}, i = 1,\\dots,N.\\\\\n",
    "\\\\\n",
    "\\Leftrightarrow$$\n",
    "\n",
    "We can rewrite this problem as mincut problem:\n",
    "$\\textrm{Denote } \\tilde{x} = (x, x_t, x_s)$, $\\textrm{denote } \\tilde{U} \\in \\mathbb{R}^{N+2 \\times N+2}$ such that the main minor of $N \\times N$ size is equal to $A$. $x_s, x_t -$ source and sink. $U_{i, s} = \\max\\{0, \\sum_{i=1}^NA_{ij} - 10\\}$ -- max profits, $U_{i, t} = \\max\\{0, -\\sum_{i=1}^NA_{ij} - 10\\}$ -- max loss. Thus, in the following sum we are minimizing we're taking into account both sums we want to maximize above. \n",
    "\n",
    "$$\\textrm{minimize } \\sum_{i=1}^N\\sum_{j=1}^NU_{ij}\\max\\{0, \\tilde{x}_j-\\tilde{x}_i\\}\\\\\n",
    "\\textrm{subject to } \\tilde{x}_s = 0, \\tilde{x}_t = 1.\\\\\n",
    "\\\\\n",
    "\\Leftrightarrow\\\\\n",
    "\\\\\n",
    "\\textrm{minimize } \\sum_{i=1}^N\\sum_{j=1}^NU_{ij}d_{ij}\\\\\n",
    "\\textrm{subject to }\\\\\n",
    "d_{ij} \\geq \\tilde{x}_j - \\tilde{x}_i,\\\\\n",
    "d_{ij} \\geq 0,\\\\\n",
    "\\tilde{x}_s = 0, \\tilde{x}_t = 1.\n",
    "$$\n",
    "\n"
   ]
  },
  {
   "cell_type": "code",
   "execution_count": 18,
   "metadata": {
    "collapsed": true
   },
   "outputs": [],
   "source": [
    "def GetMatrix(links,cities):\n",
    "    A = np.zeros((len(cities), len(cities)));\n",
    "    for i in range(0, len(links), 3):\n",
    "        A[cities.index(links[i]), cities.index(links[i + 1])] = links[i + 2]\n",
    "    return A "
   ]
  },
  {
   "cell_type": "code",
   "execution_count": 19,
   "metadata": {
    "collapsed": true
   },
   "outputs": [],
   "source": [
    "cities = ['Atlanta','Boston', 'Calgary', 'Charleston','Chicago','Dallas', \n",
    "          'Denver', 'Duluth', 'ElPaso','Helena', 'Houston', 'KansasCity', 'LasVegas',\n",
    "          'LittleRock', 'LosAngeles', 'Miami', 'Montreal', 'Nashville',\n",
    "          'NewOrleans', 'NewYork', 'OklahomaCity', 'Omaha', 'Phoenix',\n",
    "          'Pittsburgh', 'Portland', 'Raleigh', 'SaintLouis','SaltLakeCity',\n",
    "          'SanFrancisco','SantaFe', 'SaultStMarie', 'Seattle', 'Toronto',\n",
    "          'Vancouver', 'Washington', 'Winnipeg']\n",
    "\n",
    "blue = ['Winnipeg','Helena',4,\n",
    "    'Portland','SaltLakeCity',6,\n",
    "    'Omaha','Chicago',4,\n",
    "    'Montreal','NewYork',3,\n",
    "    'KansasCity','SaintLouis',2,\n",
    "    'SantaFe','OklahomaCity',3,\n",
    "    'Atlanta','Miami',5]\n",
    "\n",
    "blue = GetMatrix(blue,cities)\n",
    "\n",
    "white = ['Calgary','Winnipeg',6,\n",
    "    'Chicago','Toronto',4,\n",
    "    'SaintLouis','Chicago',2,\n",
    "    'Pittsburgh','NewYork',2,\n",
    "    'SanFrancisco','SaltLakeCity',5,\n",
    "    'Phoenix','Denver',5,\n",
    "    'LittleRock','Nashville',3]\n",
    "\n",
    "white = GetMatrix(white,cities)\n",
    "\n",
    "green = ['Portland','SanFrancisco',5,\n",
    "    'Helena','Denver',4,\n",
    "    'SaintLouis','Pittsburgh',5,\n",
    "    'LittleRock','NewOrleans',3,\n",
    "    'ElPaso','Houston',6]\n",
    "\n",
    "green = GetMatrix(green,cities)\n",
    "\n",
    "red = ['Helena','Omaha',5,\n",
    "    'Denver','OklahomaCity',4,\n",
    "    'ElPaso','Dallas',4,\n",
    "    'NewOrleans','Miami',6,\n",
    "    'NewYork','Boston',2,\n",
    "    'Duluth','Chicago',3];\n",
    "\n",
    "red = GetMatrix(red,cities)\n",
    "\n",
    "purple = ['Helena','SaltLakeCity',3,\n",
    "    'Denver','Omaha',4,\n",
    "    'Duluth','Toronto',6,\n",
    "    'Charleston','Miami',4,\n",
    "    'SanFrancisco','LosAngeles',3]\n",
    "\n",
    "purple = GetMatrix(purple,cities)\n",
    "\n",
    "orange = ['LasVegas','SaltLakeCity',3,\n",
    "    'Helena','Duluth',6,\n",
    "    'Chicago','Pittsburgh',3,\n",
    "    'Denver','KansasCity',4,\n",
    "    'NewYork','Washington',2,\n",
    "    'Atlanta','NewOrleans',4]\n",
    "\n",
    "orange = GetMatrix(orange,cities);\n",
    "\n",
    "black = ['LosAngeles','ElPaso',6,\n",
    "    'Winnipeg','Duluth',4,\n",
    "    'SaultStMarie','Montreal',5,\n",
    "    'Nashville','Raleigh',3]\n",
    "\n",
    "black = GetMatrix(black,cities)\n",
    "\n",
    "yellow = ['Seattle','Helena',6,\n",
    "    'ElPaso','OklahomaCity',5,\n",
    "    'Nashville','Pittsburgh',4]\n",
    "\n",
    "yellow = GetMatrix(yellow,cities)\n",
    "\n",
    "gray = ['Vancouver','Seattle',1,\n",
    "    'Portland','Seattle',1,\n",
    "    'Vancouver','Calgary',3,\n",
    "    'Seattle','Calgary',4,\n",
    "    'Calgary','Helena',4,\n",
    "    'Winnipeg','SaultStMarie',6,\n",
    "    'Duluth','SaultStMarie',3,\n",
    "    'SaultStMarie','Toronto',2,\n",
    "    'Toronto','Montreal',3,\n",
    "    'Montreal','Boston',2,\n",
    "    'Toronto','Pittsburgh',2,\n",
    "    'LasVegas','LosAngeles',2,\n",
    "    'LosAngeles','Phoenix',3,\n",
    "    'Phoenix','ElPaso',3,\n",
    "    'ElPaso','SantaFe',2,\n",
    "    'Phoenix','SantaFe',3,\n",
    "    'SantaFe','Denver',2,\n",
    "    'Duluth','Omaha',2,\n",
    "    'Omaha','KansasCity',1,\n",
    "    'KansasCity','OklahomaCity',2,\n",
    "    'OklahomaCity','Dallas',2,\n",
    "    'Dallas','Houston',1,\n",
    "    'Houston','NewOrleans',2,\n",
    "    'Dallas','LittleRock',2,\n",
    "    'OklahomaCity','LittleRock',2,\n",
    "    'LittleRock','SaintLouis',2,\n",
    "    'SaintLouis','Nashville',2,\n",
    "    'Nashville','Atlanta',1,\n",
    "    'Atlanta','Charleston',2,\n",
    "    'Charleston','Raleigh',2,\n",
    "    'Atlanta','Raleigh',2,\n",
    "    'Raleigh','Washington',2,\n",
    "    'Raleigh','Pittsburgh',2,\n",
    "    'Washington','Pittsburgh',2]\n",
    "\n",
    "gray = GetMatrix(gray,cities)\n",
    "\n",
    "N = len(cities)\n",
    "\n",
    "weights = blue*1.0 + white*1.5 + green*2.0 + red*2.0 + purple*2.5 + orange*1.0 + black*1.0 + yellow*2.0 + gray*1.0\n",
    "A = np.dstack([weights, weights.transpose()]).max(axis=2) #adjacency\n",
    "c = 10*np.ones(N)"
   ]
  },
  {
   "cell_type": "code",
   "execution_count": 20,
   "metadata": {
    "collapsed": true
   },
   "outputs": [],
   "source": [
    "maxprof = 0.5*sum(A) - c\n",
    "\n",
    "U = np.zeros((N+2, N+2))\n",
    "U[:N, :N] = 0.5*A\n",
    "U[:N,N] = np.array([np.max([0, -maxprof[i]]) for i in range(N)])\n",
    "U[:N,N+1] = np.array([np.max([0, maxprof[i]]) for i in range(N)])\n",
    "U[N,:N] = np.array([np.max([0, -maxprof[i]]) for i in range(N)])\n",
    "U[N+1,:N] = np.array([np.max([0, maxprof[i]]) for i in range(N)])"
   ]
  },
  {
   "cell_type": "code",
   "execution_count": 21,
   "metadata": {},
   "outputs": [
    {
     "data": {
      "text/plain": [
       "47.0"
      ]
     },
     "execution_count": 21,
     "metadata": {},
     "output_type": "execute_result"
    }
   ],
   "source": [
    "d = cvx.Variable(N+2,N+2)\n",
    "x = cvx.Variable(N+2)\n",
    "\n",
    "constraints = [\n",
    "    x[N] == 0,\n",
    "    x[N+1] == 1,\n",
    "    x >= 0,\n",
    "    x <= 1,\n",
    "    d >= 0\n",
    "]\n",
    "\n",
    "for i in range(N+2):\n",
    "    for j in range(N+2):\n",
    "        constraints += [d[i, j] >= x[j] - x[i]]\n",
    "\n",
    "sum_to_min = 0\n",
    "for i in range(N+2):\n",
    "    for j in range(N+2):\n",
    "        sum_to_min += U[i][j]*d[i,j]\n",
    "        \n",
    "objective = cvx.Minimize(sum_to_min)\n",
    "\n",
    "problem = cvx.Problem(objective, constraints)\n",
    "problem.solve(solver='GUROBI')"
   ]
  },
  {
   "cell_type": "code",
   "execution_count": 22,
   "metadata": {
    "collapsed": true
   },
   "outputs": [],
   "source": [
    "x = x.value[:N]"
   ]
  },
  {
   "cell_type": "code",
   "execution_count": 23,
   "metadata": {},
   "outputs": [
    {
     "name": "stdout",
     "output_type": "stream",
     "text": [
      "1 Atlanta\n",
      "2 Calgary\n",
      "3 Charleston\n",
      "4 Chicago\n",
      "5 Dallas\n",
      "6 Denver\n",
      "7 Duluth\n",
      "8 ElPaso\n",
      "9 Helena\n",
      "10 Houston\n",
      "11 LittleRock\n",
      "12 LosAngeles\n",
      "13 Miami\n",
      "14 Nashville\n",
      "15 NewOrleans\n",
      "16 OklahomaCity\n",
      "17 Omaha\n",
      "18 Phoenix\n",
      "19 Pittsburgh\n",
      "20 Portland\n",
      "21 SaintLouis\n",
      "22 SaltLakeCity\n",
      "23 SanFrancisco\n",
      "24 SaultStMarie\n",
      "25 Seattle\n",
      "26 Toronto\n",
      "27 Winnipeg\n"
     ]
    }
   ],
   "source": [
    "k = 0\n",
    "for i in range(N):\n",
    "    if x[i] == 1:\n",
    "        k += 1\n",
    "        print(k, cities[i])"
   ]
  },
  {
   "cell_type": "markdown",
   "metadata": {},
   "source": [
    "<img src=\"TicketToRide0.png\">"
   ]
  },
  {
   "cell_type": "code",
   "execution_count": null,
   "metadata": {
    "collapsed": true
   },
   "outputs": [],
   "source": []
  }
 ],
 "metadata": {
  "kernelspec": {
   "display_name": "Python3.5",
   "language": "python",
   "name": "python3.5"
  },
  "language_info": {
   "codemirror_mode": {
    "name": "ipython",
    "version": 3
   },
   "file_extension": ".py",
   "mimetype": "text/x-python",
   "name": "python",
   "nbconvert_exporter": "python",
   "pygments_lexer": "ipython3",
   "version": "3.5.4"
  }
 },
 "nbformat": 4,
 "nbformat_minor": 2
}
