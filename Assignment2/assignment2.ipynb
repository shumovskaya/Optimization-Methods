{
 "cells": [
  {
   "cell_type": "markdown",
   "metadata": {},
   "source": [
    "# Assignment 2. Shumovskaia Valentina."
   ]
  },
  {
   "cell_type": "code",
   "execution_count": 1,
   "metadata": {
    "collapsed": true
   },
   "outputs": [],
   "source": [
    "from cvxpy import *\n",
    "import numpy as np"
   ]
  },
  {
   "cell_type": "markdown",
   "metadata": {},
   "source": [
    "## Excercise 1.4\n",
    "\n",
    "#### Consider the problem\n",
    "$$\n",
    "\\textrm{minimize }4x_1 +5\\left|x_2-1\\right|\\\\\n",
    "\\textrm{subject to }\\left|2x_1\\right|+\\left|x_2-3\\right|\\leq 5\n",
    "$$\n",
    "#### and reformulate it as a linear programming problem."
   ]
  },
  {
   "cell_type": "markdown",
   "metadata": {},
   "source": [
    "You may consider any $x \\in \\mathbb{R}$ as $x=x^+ -x^-$, where $x^+, x^- \\geq 0$. Then $\\left|x\\right| = x^++x^-.$\n",
    "\n",
    "1. Let's look at $x_1$ as $x_1 = s_1 - s_2$, then $\\left|2x_1\\right| = 2s_1 + 2s_2,$ where $s_1,s_2 \\geq 0.$\n",
    "\n",
    "2. Let's consider $\\left|x_2-1\\right|$. $x_2-1=s_3-s_4$, then $x_2 = 1+s_3-s_4$ and $\\left|x_2-1\\right| = s_3+s_4$, where $s_3,s_4\\geq 0$.\n",
    "\n",
    "3. Let's condider $\\left|x_2-3\\right|$. $x_2-3=s_5-s_6$, then $x_2 = 3+s_5-s_6$ and $\\left|x_2-3\\right| = s_5+s_6$, where $s_5,s_6\\geq 0$.\n",
    "\n",
    "4. Also we need to add a new constraint because we can compute $x_2$ in two ways. So, $1+s_3-s_4 = 3+s_5-s_6 <=> s_3-s_4-s_5+s_6=2.$\n",
    "\n",
    "Thus, our new problem is (in inequality form):\n",
    "\n",
    "$$\n",
    "\\textrm{minimize}\\\\ 4x_1 + 5s_3 + 5s_4\\\\\n",
    "\\textrm{subject to}\\\\ 2s_1 + 2s_2 + s_5 + s_6 \\leq 5,\\\\\n",
    "x_1 - s_1 + s_2 \\leq 0,\\\\\n",
    "-x_1 + s_1 - s_2 \\leq 0,\\\\\n",
    "x_2 - s_3 + s_4 \\leq 1,\\\\\n",
    "- x_2 + s_3 - s_4 \\leq -1,\\\\\n",
    "s_3-s_4-s_5+s_6 \\leq 2,\\\\\n",
    "-s_3+s_4+s_5-s_6 \\leq -2,\\\\\n",
    "-s_1,-s_2,-s_3,-s_4,-s_5,-s_6\\leq 0.\n",
    "$$\n",
    "\n",
    "An optimal value for initial task would be optimal value for a new task."
   ]
  },
  {
   "cell_type": "markdown",
   "metadata": {},
   "source": [
    "#### CVXPY soluton"
   ]
  },
  {
   "cell_type": "code",
   "execution_count": 2,
   "metadata": {},
   "outputs": [
    {
     "name": "stdout",
     "output_type": "stream",
     "text": [
      "status: optimal\n",
      "optimal value = -5.999999998898642\n",
      "x_1* = -1.50000000055\n",
      "x_2* = 1.00000000085\n"
     ]
    }
   ],
   "source": [
    "x_1 = Variable()\n",
    "x_2 = Variable()\n",
    "s_1 = Variable()\n",
    "s_2 = Variable()\n",
    "s_3 = Variable()\n",
    "s_4 = Variable()\n",
    "s_5 = Variable()\n",
    "s_6 = Variable()\n",
    "\n",
    "constraints = [-s_1 <= 0,\n",
    "               -s_2 <= 0,\n",
    "               -s_3 <= 0,\n",
    "               -s_4 <= 0,\n",
    "               -s_5 <= 0,\n",
    "               -s_6 <= 0,\n",
    "               x_1 - s_1 + s_2 <= 0,\n",
    "               -x_1 + s_1 - s_2 <= 0,\n",
    "               x_2 - s_3 + s_4 <= 1,\n",
    "               -x_2 + s_3 - s_4 <= -1,\n",
    "               2*s_1 + 2*s_2 + s_5 + s_6 <= 5,\n",
    "               s_3 - s_4 - s_5 + s_6 <= 2,\n",
    "               -s_3 + s_4 + s_5 - s_6 <= -2\n",
    "              ]\n",
    "\n",
    "obj = Minimize(4*s_1 - 4*s_2 + 5*s_3 + 5*s_4)\n",
    "\n",
    "prob = Problem(obj, constraints)\n",
    "prob.solve()  # Returns the optimal value.\n",
    "print(\"status:\", prob.status)\n",
    "print(\"optimal value =\", prob.value)\n",
    "print(\"x_1* =\", x_1.value)\n",
    "print(\"x_2* =\", x_2.value)"
   ]
  },
  {
   "cell_type": "markdown",
   "metadata": {},
   "source": [
    "## Excercise 1.8\n",
    "\n",
    "#### Consider a road divided into $n$ segments and illuminated by $m$ lamps. Let $p_j$ be the power of the $j$th lamp. The illumination $I_i$ of the $i$th segment is assumed to be $\\sum_{j=1}^ma_{ij}p_j$, where $a_{ij}$ are known coefficients. Let $I_i^*$ be the desired illumination of road $i$.\n",
    "\n",
    "#### We are interested in choosing the lamp powers $p_j$ so that the illuminations $I_i$ are close to the desired illuminations $I^∗_i$. Provide a reasonable linear programming formulation of this problem. Note that the wording of the problem is loose and there is more than one possible formulation."
   ]
  },
  {
   "cell_type": "markdown",
   "metadata": {},
   "source": [
    "We want $I_i$ to be close to $I_i^*$, so let's minimize $\\sum_{i=1}^m\\left|I_i-I_i^*\\right|$ knowing that $I_i = \\sum_{j=1}^na_{ij}p_j = I_j$ and $p_j \\geq 0$ for $j=1,\\dots,n$. As in previous task we need to divide absolute values into two parts $\\left|I_i-I_i^*\\right| = s_{1_i}^+ + s_{2_i}^-$. So, we're adding two new variables $s_1$ and $s_2$ which are positive vecors size $n$, also consider $I$ and $I^*$ as vectors: $I = (I_1,\\dots,I_n)^T, I^* = (I^*_1,\\dots,I^*_n)^T$. Let's also denote $p = (p_1,\\dots,p_n)^T$, $A = (a_{ij})_{i=1,\\dots,m,j=1,\\dots,n}).$\n",
    "\n",
    "Linear programming problem:\n",
    "$$\n",
    "\\textrm{minimize}\\\\\n",
    "\\sum_{i=1}^m s_{1_i} - s_{2_i}\\\\\n",
    "\\textrm{subject to}\\\\\n",
    "Ap \\leq I,\\\\\n",
    "-Ap \\leq -I,\\\\\n",
    "I - I^* - s_1 + s_2 \\leq 0,\\\\\n",
    "- I + I^* + s_1 - s_2 \\leq 0,\\\\\n",
    "-s_1 \\leq 0,\\\\\n",
    "-s_2 \\leq 0,\\\\\n",
    "-p \\leq 0.\n",
    "$$"
   ]
  },
  {
   "cell_type": "markdown",
   "metadata": {},
   "source": [
    "#### CVXPY solution"
   ]
  },
  {
   "cell_type": "code",
   "execution_count": 5,
   "metadata": {},
   "outputs": [
    {
     "name": "stdout",
     "output_type": "stream",
     "text": [
      "status: optimal\n",
      "optimal value = -7.70296846163975e-11\n",
      "p* = [[ 0.15168488]\n",
      " [ 0.37475207]\n",
      " [ 0.12086434]\n",
      " [ 0.50028867]\n",
      " [ 0.20788085]\n",
      " [ 0.762462  ]\n",
      " [ 0.79860596]\n",
      " [ 0.67139863]\n",
      " [ 0.66966923]\n",
      " [ 0.11788   ]\n",
      " [ 1.4048173 ]\n",
      " [ 0.29831977]\n",
      " [ 1.47349953]\n",
      " [ 0.19852284]\n",
      " [ 0.22804621]\n",
      " [ 0.11672018]\n",
      " [ 0.25744904]\n",
      " [ 0.17549554]\n",
      " [ 0.25842703]\n",
      " [ 1.29224287]]\n",
      "I =  [[ 5.0000001 ]\n",
      " [ 4.99999938]\n",
      " [ 5.00000007]\n",
      " [ 4.99999977]\n",
      " [ 4.99999951]\n",
      " [ 5.00000005]\n",
      " [ 4.99999994]\n",
      " [ 5.00000072]\n",
      " [ 5.00000002]\n",
      " [ 4.99999989]]\n",
      "I^* =  [ 5.  5.  5.  5.  5.  5.  5.  5.  5.  5.]\n"
     ]
    }
   ],
   "source": [
    "n = 20\n",
    "m = 10\n",
    "I_desire = np.ones(m)*5\n",
    "#A = np.ones((m,n))\n",
    "A = np.random.rand(m,n)\n",
    "\n",
    "p = Variable(n)\n",
    "I = Variable(m)\n",
    "s_1 = Variable(m)\n",
    "s_2 = Variable(m)\n",
    "\n",
    "constraints = [A@p <= I,\n",
    "               -A@p <= -I,\n",
    "               I - I_desire - s_1 + s_2 <= 0,\n",
    "               - I + I_desire + s_1 - s_2 <= 0,\n",
    "               -s_1 <= 0,\n",
    "               -s_2 <= 0,\n",
    "               -p <= 0\n",
    "              ]\n",
    "\n",
    "obj = Minimize(sum((I-I_desire)**2))\n",
    "\n",
    "prob = Problem(obj, constraints)\n",
    "prob.solve()  # Returns the optimal value.\n",
    "print(\"status:\", prob.status)\n",
    "print(\"optimal value =\", prob.value)\n",
    "print(\"p* =\", p.value)\n",
    "print(\"I = \", I.value)\n",
    "print(\"I^* = \", I_desire)"
   ]
  },
  {
   "cell_type": "markdown",
   "metadata": {},
   "source": [
    "## Excercise 1.15\n",
    "\n",
    "#### A company produces two kinds of products. A product of the first type requires $1/4$ hours of assembly labor, $1/8$ hours of testing, and $\\$1.2$ worth of raw materials. A product of the second type requires $1/3$ hours of assembly, $1/3$ hours of testing, and $\\$0.9$ worth of raw materials. Given the current personnel of the company, there can be at most $90$ hours of assimbly labor and $80$ hours of testing, each day. Products of the first and second type have a market value of $\\$9$ and $\\$8$, perspectively.\n",
    "\n",
    "#### 1. Formulate a linear programming problem that can be used to maximize the daily profit of the company.\n",
    "\n",
    "#### 2. Consider the following two modifications to the original problem:\n",
    "\n",
    "#### (a) Suppose that up to $50$ hours of overtime assembly labor can be scheduled, at a cost of $\\$7$ per hour.\n",
    "\n",
    "#### (b) Suppose that the raw material supplier provides a $10\\%$ discount if the daily bill is above $\\$300$. \n",
    "\n",
    "#### Which of the above two elements can be easily incorporated into the linear programming formulation and how? If one or both are not easy to incorporate, indicate how you might nevertheless solve the problem."
   ]
  },
  {
   "cell_type": "markdown",
   "metadata": {},
   "source": [
    "Let's denote $n_1, n_2$ -- amount of first and second type products. We want to maximize the following sum: $n_1\\cdot (9-1.2) + n_2\\cdot (8-0.9)$ remembering that $n_1, n_2 \\geq 0.$ Also to fulfil time requirements we should add constraints: $n_1\\cdot \\frac{1}{4} + n_2\\cdot \\frac{1}{3} \\leq 90, n_1\\cdot \\frac{1}{8} + n_2\\cdot \\frac{1}{3} \\leq 80$."
   ]
  },
  {
   "cell_type": "markdown",
   "metadata": {},
   "source": [
    "Linear programming problem:\n",
    "$$\n",
    "\\textrm{minimize}\\\\\n",
    "n_1\\cdot (9-1.2) + n_2 \\cdot (8-0.9)\\\\\n",
    "\\textrm{subject to}\\\\\n",
    "n_1\\cdot \\frac{1}{4} + n_2\\cdot \\frac{1}{3} \\leq 90,\\\\\n",
    "n_1\\cdot \\frac{1}{8} + n_2\\cdot \\frac{1}{3} \\leq 80,\\\\\n",
    "-n_1 \\leq 0,\\\\\n",
    "-n_2 \\leq 0.\\\\\n",
    "$$\n",
    "\n",
    "#### CVXPY solution"
   ]
  },
  {
   "cell_type": "code",
   "execution_count": 4,
   "metadata": {},
   "outputs": [
    {
     "name": "stdout",
     "output_type": "stream",
     "text": [
      "status: optimal\n",
      "optimal value = 2807.999988249077\n",
      "n_1* = 359.999995524\n",
      "n_2* = 3.26239654109e-06\n"
     ]
    }
   ],
   "source": [
    "n_1 = Variable()\n",
    "n_2 = Variable()\n",
    "\n",
    "constraints = [-n_1 <= 0,\n",
    "               -n_2 <= 0,\n",
    "               n_1/4 + n_2/3 <= 90,\n",
    "               n_1/8 + n_2/3 <= 80,\n",
    "              ]\n",
    "\n",
    "obj = Maximize(n_1*(9-1.2) + n_2*(8-0.9))\n",
    "\n",
    "prob = Problem(obj, constraints)\n",
    "prob.solve()  # Returns the optimal value.\n",
    "print(\"status:\", prob.status)\n",
    "print(\"optimal value =\", prob.value)\n",
    "print(\"n_1* =\", n_1.value)\n",
    "print(\"n_2* =\", n_2.value)\n",
    "\n",
    "sol_1 = prob.value"
   ]
  },
  {
   "cell_type": "markdown",
   "metadata": {},
   "source": [
    "(a) the problem easily modifies by adding a new variable $t$ such that $0 \\leq t \\leq 5$. We change the objetive funtion into $n_1\\cdot (9-1.2) + n_2 \\cdot (8-0.9) - t\\cdot 7$ and change one of the constraints: $n_1/4 + n_2/3 <= 90 + t.$\n",
    "\n",
    "Thus, linear programming problem looks like:\n",
    "$$\n",
    "\\textrm{minimize}\\\\\n",
    "n_1\\cdot (9-1.2) + n_2 \\cdot (8-0.9) + t \\cdot 7\\\\\n",
    "\\textrm{subject to}\\\\\n",
    "n_1\\cdot \\frac{1}{4} + n_2\\cdot \\frac{1}{3} \\leq 90 + t,\\\\\n",
    "n_1\\cdot \\frac{1}{8} + n_2\\cdot \\frac{1}{3} \\leq 80,\\\\\n",
    "-n_1 \\leq 0,\\\\\n",
    "-n_2 \\leq 0,\\\\\n",
    "-t \\leq 0,\\\\\n",
    "t \\leq 50.\n",
    "$$\n",
    "\n",
    "#### CVXPY solution"
   ]
  },
  {
   "cell_type": "code",
   "execution_count": 5,
   "metadata": {},
   "outputs": [
    {
     "name": "stdout",
     "output_type": "stream",
     "text": [
      "status: optimal\n",
      "optimal value = 4017.999997922294\n",
      "n_1* = 559.999999348\n",
      "n_2* = 4.04503845293e-07\n"
     ]
    }
   ],
   "source": [
    "n_1 = Variable()\n",
    "n_2 = Variable()\n",
    "t = Variable()\n",
    "\n",
    "constraints = [-n_1 <= 0,\n",
    "               -n_2 <= 0,\n",
    "               -t <= 0,\n",
    "               t <= 50,\n",
    "               n_1/4 + n_2/3 <= 90 + t,\n",
    "               n_1/8 + n_2/3 <= 80,\n",
    "              ]\n",
    "\n",
    "obj = Maximize(n_1*(9-1.2) + n_2*(8-0.9) - t*7)\n",
    "\n",
    "prob = Problem(obj, constraints)\n",
    "prob.solve()  # Returns the optimal value.\n",
    "print(\"status:\", prob.status)\n",
    "print(\"optimal value =\", prob.value)\n",
    "print(\"n_1* =\", n_1.value)\n",
    "print(\"n_2* =\", n_2.value)"
   ]
  },
  {
   "cell_type": "markdown",
   "metadata": {},
   "source": [
    "(b) in this case it's not easy to modify a problem, but we can solve 2 problems, an initial one and the following one, compare their results and choose the best one."
   ]
  },
  {
   "cell_type": "markdown",
   "metadata": {},
   "source": [
    "We need to consider that we have $10\\%$discount and that a daily bill is above $300\\$$. Thus, second linear programming problem is\\\\\n",
    "$$\n",
    "\\textrm{minimize}\\\\\n",
    "n_1\\cdot (9-1.2*0.9) + n_2 \\cdot (8-0.9*0.9)\\\\\n",
    "\\textrm{subject to}\\\\\n",
    "n_1\\cdot \\frac{1}{4} + n_2\\cdot \\frac{1}{3} \\leq 90,\\\\\n",
    "n_1\\cdot \\frac{1}{8} + n_2\\cdot \\frac{1}{3} \\leq 80,\\\\\n",
    "-n_1\\cdot1.2 - n_2\\cdot0.9 \\leq -300,\\\\\n",
    "-n_1 \\leq 0,\\\\\n",
    "-n_2 \\leq 0.\\\\\n",
    "$$\n",
    "\n",
    "#### CVXPY solution"
   ]
  },
  {
   "cell_type": "code",
   "execution_count": 6,
   "metadata": {},
   "outputs": [
    {
     "name": "stdout",
     "output_type": "stream",
     "text": [
      "status: optimal\n",
      "optimal value = 2851.199996274337\n",
      "n_1* = 359.999998359\n",
      "n_2* = 1.28924150276e-06\n"
     ]
    }
   ],
   "source": [
    "n_1 = Variable()\n",
    "n_2 = Variable()\n",
    "\n",
    "constraints = [-n_1 <= 0,\n",
    "               -n_2 <= 0,\n",
    "               -n_1*1.2 - n_2*0.9 <= - 300,\n",
    "               n_1/4 + n_2/3 <= 90,\n",
    "               n_1/8 + n_2/3 <= 80,\n",
    "              ]\n",
    "\n",
    "obj = Maximize(n_1*(9-0.9*1.2) + n_2*(8-0.9*0.9))\n",
    "\n",
    "prob = Problem(obj, constraints)\n",
    "prob.solve()  # Returns the optimal value.\n",
    "print(\"status:\", prob.status)\n",
    "print(\"optimal value =\", prob.value)\n",
    "print(\"n_1* =\", n_1.value)\n",
    "print(\"n_2* =\", n_2.value)\n",
    "\n",
    "sol_2b = prob.value"
   ]
  },
  {
   "cell_type": "code",
   "execution_count": 7,
   "metadata": {},
   "outputs": [
    {
     "name": "stdout",
     "output_type": "stream",
     "text": [
      "An optimal value is 2851.199996274337\n"
     ]
    }
   ],
   "source": [
    "print(\"An optimal value is\", max(sol_1, sol_2b))"
   ]
  },
  {
   "cell_type": "markdown",
   "metadata": {},
   "source": [
    "## Excercise 3.12\n",
    "\n",
    "#### Consider the problem\n",
    "$$\n",
    "\\textrm{minimize }\\\\-x_1 -2x_2\\\\\n",
    "\\textrm{subject to }\\\\\n",
    "-x_1 + 3x_2 \\leq 3,\\\\\n",
    "x_1 + x_2 \\leq 5,\\\\\n",
    "x_1,x_2 \\geq 0.\n",
    "$$\n",
    "\n",
    "#### 1. Convert the problem into standard form and construct a basic feasible solution at which $(x_1, x_2) = (0, 0)$.\n",
    "\n",
    "#### 2. Carry out the full tableau implementation of the simplex method, starting with the basic feasible solution of part 1.\n",
    "\n",
    "#### 3. Draw a graphical representation of the problem in terms of the original variables $x_1$, $x_2$, and indicate the path taken by the simplex algorithm."
   ]
  },
  {
   "cell_type": "markdown",
   "metadata": {},
   "source": [
    "1. We should add slack variables $x_3, x_4 \\geq 0$. Then problem transposes to the following:\n",
    "\n",
    "$$\n",
    "\\textrm{minimize }\\\\-x_1 -2x_2\\\\\n",
    "\\textrm{subject to }\\\\\n",
    "-x_1 + 3x_2  + x_3 = 3,\\\\\n",
    "x_1 + x_2 + x_4 = 5,\\\\\n",
    "x_1,x_2,x_3,x_4 \\geq 0.\n",
    "$$"
   ]
  },
  {
   "cell_type": "markdown",
   "metadata": {
    "collapsed": true
   },
   "source": [
    "![](3_1.JPG =100x20)\n"
   ]
  },
  {
   "cell_type": "markdown",
   "metadata": {},
   "source": [
    "<img src=\"3_sdsd1.JPG\">\n"
   ]
  },
  {
   "cell_type": "markdown",
   "metadata": {},
   "source": [
    "<img src=\"3_1.JPG\" alt=\"Drawing\" style=\"width: 700px;\"/>\n",
    "<img src=\"3_2.JPG\" alt=\"Drawing\" style=\"width: 700px;\"/>"
   ]
  }
 ],
 "metadata": {
  "kernelspec": {
   "display_name": "Python3.5",
   "language": "python",
   "name": "python3.5"
  },
  "language_info": {
   "codemirror_mode": {
    "name": "ipython",
    "version": 3
   },
   "file_extension": ".py",
   "mimetype": "text/x-python",
   "name": "python",
   "nbconvert_exporter": "python",
   "pygments_lexer": "ipython3",
   "version": "3.5.4"
  }
 },
 "nbformat": 4,
 "nbformat_minor": 2
}
