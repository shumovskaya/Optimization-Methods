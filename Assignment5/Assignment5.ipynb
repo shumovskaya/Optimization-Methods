{
 "cells": [
  {
   "cell_type": "markdown",
   "metadata": {},
   "source": [
    "# Assignment #5. Shumovskaia Valentina."
   ]
  },
  {
   "cell_type": "markdown",
   "metadata": {},
   "source": [
    "## Problem 1."
   ]
  },
  {
   "cell_type": "markdown",
   "metadata": {},
   "source": [
    "Given $\\big((x^{(1)}, y^{(1)}),\\dots,(x^{(K)}, y^{(K)})\\big)$, where $x^{(i)} \\in \\mathbb{R}^n, y^{(i)} \\in \\mathbb{R}^n, i = 1,\\dots, K$.\n",
    "\n",
    "Where $y^{(M+1)},\\dots,y^{(K)}$ is censored data. We only know lower bound $D$.\n",
    "\n",
    "Problem: find $c$ such that $J = \\sum_{k=1}^{K} \\big( y^{(k)} - c^Tx^{(k)}\\big)^2 \\rightarrow \\textrm{min}_{c \\in \\mathbb{R}^n}$\n",
    "\n",
    "Let $c$ be a real solution."
   ]
  },
  {
   "cell_type": "code",
   "execution_count": 1,
   "metadata": {
    "collapsed": true
   },
   "outputs": [],
   "source": [
    "import numpy as np\n",
    "from numpy.random import randn\n",
    "import cvxpy as cvx\n",
    "import scipy.io as sio\n",
    "import matplotlib.pyplot as plt\n",
    "%matplotlib inline"
   ]
  },
  {
   "cell_type": "code",
   "execution_count": 2,
   "metadata": {
    "collapsed": true
   },
   "outputs": [],
   "source": [
    "n = 20 # dimension of x's\n",
    "M = 25 # number of non−censored data points\n",
    "K = 100 # total number of points"
   ]
  },
  {
   "cell_type": "code",
   "execution_count": 3,
   "metadata": {},
   "outputs": [
    {
     "name": "stdout",
     "output_type": "stream",
     "text": [
      "(20,)\n"
     ]
    }
   ],
   "source": [
    "np.random.seed(1)\n",
    "c_true = randn(n)\n",
    "X = randn(n, K)\n",
    "y = np.dot(X.T, c_true) + 0.1*np.sqrt(n)*randn(K)\n",
    "print(c_true.shape)"
   ]
  },
  {
   "cell_type": "code",
   "execution_count": 4,
   "metadata": {},
   "outputs": [
    {
     "data": {
      "text/plain": [
       "array([ 1.62434536, -0.61175641, -0.52817175, -1.07296862,  0.86540763,\n",
       "       -2.3015387 ,  1.74481176, -0.7612069 ,  0.3190391 , -0.24937038,\n",
       "        1.46210794, -2.06014071, -0.3224172 , -0.38405435,  1.13376944,\n",
       "       -1.09989127, -0.17242821, -0.87785842,  0.04221375,  0.58281521])"
      ]
     },
     "execution_count": 4,
     "metadata": {},
     "output_type": "execute_result"
    }
   ],
   "source": [
    "c_true"
   ]
  },
  {
   "cell_type": "code",
   "execution_count": 5,
   "metadata": {
    "collapsed": true
   },
   "outputs": [],
   "source": [
    "# Reorder measurements , then censor\n",
    "sort_ind= np.argsort(y)\n",
    "X = X[:, sort_ind]\n",
    "y = y[sort_ind[:M+1]]\n",
    "D = (y[M-1]+y[M])/2\n",
    "y = y[:M]"
   ]
  },
  {
   "cell_type": "markdown",
   "metadata": {},
   "source": [
    "#### 1 Constrained least-squares\n",
    "\n",
    "Consider problem:\n",
    "$$\\sum_{k=1}^{K} \\big( y^{(k)} - c^Tx^{(k)}\\big)^2 \\rightarrow \\textrm{min}_{c \\in \\mathbb{R}^n}\\\\\n",
    "\\textrm{subject to}\\\\\n",
    "y^{(i)} \\geq D, i = M+1,\\dots, K$$\n",
    "\n",
    "Let $\\hat{c}$ be a solution."
   ]
  },
  {
   "cell_type": "code",
   "execution_count": 6,
   "metadata": {
    "collapsed": true
   },
   "outputs": [],
   "source": [
    "y_cens = cvx.Variable(K-M)\n",
    "c = cvx.Variable(n)"
   ]
  },
  {
   "cell_type": "code",
   "execution_count": 7,
   "metadata": {
    "collapsed": true
   },
   "outputs": [],
   "source": [
    "constraints = [\n",
    "    y_cens >= D\n",
    "]\n",
    "\n",
    "objective = 0\n",
    "for k in range(M):\n",
    "    objective += (y[k] - c.T@X[:,k])**2\n",
    "for k in range(M+1, K):\n",
    "    objective += (y_cens[k-(M+1)] - c.T@X[:,k])**2\n",
    "    \n",
    "objective = cvx.Minimize(objective)"
   ]
  },
  {
   "cell_type": "code",
   "execution_count": 8,
   "metadata": {
    "collapsed": true
   },
   "outputs": [],
   "source": [
    "prob = cvx.Problem(objective, constraints)"
   ]
  },
  {
   "cell_type": "code",
   "execution_count": 9,
   "metadata": {},
   "outputs": [
    {
     "data": {
      "text/plain": [
       "1.5246294974666945"
      ]
     },
     "execution_count": 9,
     "metadata": {},
     "output_type": "execute_result"
    }
   ],
   "source": [
    "prob.solve()"
   ]
  },
  {
   "cell_type": "code",
   "execution_count": 10,
   "metadata": {},
   "outputs": [
    {
     "data": {
      "text/plain": [
       "array([[ 1.40412544, -0.6829485 , -0.3995794 , -1.07640024,  0.94110526,\n",
       "        -2.24994091,  1.82495787, -0.72639065,  0.31217051, -0.52149199,\n",
       "         1.50350655, -2.18027934, -0.31328802, -0.48800489,  1.10851794,\n",
       "        -1.08200016, -0.02105866, -1.26500002,  0.12769546,  0.6521275 ]])"
      ]
     },
     "execution_count": 10,
     "metadata": {},
     "output_type": "execute_result"
    }
   ],
   "source": [
    "c = c.value\n",
    "c = np.asarray(c.T)\n",
    "c"
   ]
  },
  {
   "cell_type": "markdown",
   "metadata": {},
   "source": [
    "#### 2 Simple least squares\n",
    "\n",
    "Consider problem:\n",
    "$$\\sum_{k=1}^{M} \\big( y^{(k)} - c^Tx^{(k)}\\big)^2 \\rightarrow \\textrm{min}_{c \\in \\mathbb{R}^n}$$\n",
    "\n",
    "Let $\\hat{c}_{ls}$ be a solution."
   ]
  },
  {
   "cell_type": "code",
   "execution_count": 11,
   "metadata": {
    "collapsed": true
   },
   "outputs": [],
   "source": [
    "c_ls = cvx.Variable(n)"
   ]
  },
  {
   "cell_type": "code",
   "execution_count": 12,
   "metadata": {
    "collapsed": true
   },
   "outputs": [],
   "source": [
    "constraints_ls = [\n",
    "]\n",
    "\n",
    "objective_ls = 0\n",
    "for k in range(M):\n",
    "    objective_ls += (y[k] - c_ls.T@X[:,k])**2\n",
    "    \n",
    "objective_ls = cvx.Minimize(objective_ls)"
   ]
  },
  {
   "cell_type": "code",
   "execution_count": 13,
   "metadata": {
    "collapsed": true
   },
   "outputs": [],
   "source": [
    "prob_ls = cvx.Problem(objective_ls, constraints_ls)"
   ]
  },
  {
   "cell_type": "code",
   "execution_count": 14,
   "metadata": {},
   "outputs": [
    {
     "data": {
      "text/plain": [
       "0.9040512085025502"
      ]
     },
     "execution_count": 14,
     "metadata": {},
     "output_type": "execute_result"
    }
   ],
   "source": [
    "prob_ls.solve()"
   ]
  },
  {
   "cell_type": "code",
   "execution_count": 15,
   "metadata": {},
   "outputs": [
    {
     "data": {
      "text/plain": [
       "array([[ 1.79919598, -0.85205801, -0.17655623, -1.11182207,  1.29184217,\n",
       "        -2.18233819,  2.09330195, -0.64974119,  0.20793767, -0.49933822,\n",
       "         1.47210949, -2.17227735, -0.35661873, -0.74338292,  0.87112796,\n",
       "        -1.11884272, -0.04935096, -1.49201461, -0.15692077,  0.64175029]])"
      ]
     },
     "execution_count": 15,
     "metadata": {},
     "output_type": "execute_result"
    }
   ],
   "source": [
    "c_ls = c_ls.value\n",
    "c_ls = np.asarray(c_ls.T)\n",
    "c_ls"
   ]
  },
  {
   "cell_type": "markdown",
   "metadata": {},
   "source": [
    "#### Comparison"
   ]
  },
  {
   "cell_type": "markdown",
   "metadata": {},
   "source": [
    "Let's compute and compare the following values: \n",
    "$$\\frac{\\|c - \\hat{c}\\|_2}{\\|c\\|_2}, \\frac{\\|c - \\hat{c}_{ls}\\|_2}{\\|c\\|_2}$$"
   ]
  },
  {
   "cell_type": "code",
   "execution_count": 16,
   "metadata": {
    "collapsed": true
   },
   "outputs": [],
   "source": [
    "er = np.linalg.norm(c_true - c)/np.linalg.norm(c_true)\n",
    "er_ls = np.linalg.norm(c_true - c_ls)/np.linalg.norm(c_true)"
   ]
  },
  {
   "cell_type": "code",
   "execution_count": 17,
   "metadata": {},
   "outputs": [
    {
     "data": {
      "text/plain": [
       "(0.12329125327670393, 0.22709755035722382)"
      ]
     },
     "execution_count": 17,
     "metadata": {},
     "output_type": "execute_result"
    }
   ],
   "source": [
    "er, er_ls"
   ]
  },
  {
   "cell_type": "markdown",
   "metadata": {},
   "source": [
    "You can see that using censored values gave us better solution."
   ]
  },
  {
   "cell_type": "markdown",
   "metadata": {},
   "source": [
    "## Problem 2.\n",
    "\n",
    "We have:\n",
    "\n",
    "* $n$ segments to travel\n",
    "* $d_0,\\dots,d_{n-1}$ -- segments distances (are known)\n",
    "* speed constraints: $s_{\\min} \\leq s \\leq s_{\\max}, s = (s_0,\\dots,s_{n-1})$\n",
    "* time constraints: $\\tau_{\\min} \\leq \\tau \\leq \\tau_{\\max}, \\tau = (\\tau_0,\\dots,\\tau_{n-1})$\n",
    "* fuel consumption $\\Phi(s_i) = as_i^2 + bs_i + c$ ($a, b, c$ are known)\n",
    "\n",
    "We want to find $s, \\tau$ such that $F = \\sum_{i=0}^{n-1}(\\tau_i - \\tau_{i-1})\\Phi(s_i) \\rightarrow \\min, \\tau_{-1} := 0$\n",
    "\n",
    "##### Convex problem:\n",
    "\n",
    "$$\\min_{\\Delta\\tau \\in \\mathbb{R}^n} \\sum_{i=0}^{n-1}\\frac{ad_i^2}{\\Delta\\tau_i} + bd_i + c\\Delta\\tau_i\\\\\n",
    "\\textrm{subject to}\\\\\n",
    "\\sum_{j=0}^{i}\\Delta\\tau_{j} \\leq \\tau_{\\max i}, i = 0,\\dots, n\\\\\n",
    "\\sum_{j=0}^{i}\\Delta\\tau_{j} \\geq \\tau_{\\min i}, i = 0,\\dots, n\\\\\n",
    "\\Delta\\tau_{i} s_{\\min i} \\leq d_i, i = 0,\\dots, n\\\\\n",
    "\\Delta\\tau_{i} s_{\\max i} \\geq d_i, i = 0,\\dots, n.\\\\\n",
    "$$"
   ]
  },
  {
   "cell_type": "code",
   "execution_count": 18,
   "metadata": {
    "collapsed": true
   },
   "outputs": [],
   "source": [
    "class Vehicle:\n",
    "    \n",
    "    def __init__(self, contents_path='veh_sched_data.mat'):\n",
    "        self.mat_contents = sio.loadmat('veh_sched_data.mat')\n",
    "        self.a = self.mat_contents['a'][0,0]\n",
    "        self.b = self.mat_contents['b'][0,0]\n",
    "        self.c = self.mat_contents['c'][0,0]\n",
    "        self.d = self.mat_contents['d'].squeeze()\n",
    "        self.n = self.mat_contents['n'][0,0]\n",
    "        self.smin = self.mat_contents['smin'].squeeze()\n",
    "        self.smax = self.mat_contents['smax'].squeeze()\n",
    "        self.tau_min = self.mat_contents['tau_min'].squeeze()\n",
    "        self.tau_max = self.mat_contents['tau_max'].squeeze()\n",
    "        \n",
    "    def solve(self):\n",
    "        dtau = cvx.Variable(self.n)\n",
    "        \n",
    "        constraints = []\n",
    "        for i in range(self.n):\n",
    "            constraints += [\n",
    "                dtau[i]*self.smin[i] <= self.d[i],\n",
    "                self.d[i] <= self.smax[i]*dtau[i]\n",
    "            ]\n",
    "        for i in range(self.n):\n",
    "            sum_ = 0\n",
    "            for j in range(i+1):\n",
    "                sum_ += dtau[j]\n",
    "            constraints += [\n",
    "                sum_ <= self.tau_max[i],\n",
    "                sum_ >= self.tau_min[i]\n",
    "            ]\n",
    "        \n",
    "        objective = 0\n",
    "        for i in range(self.n):\n",
    "            objective += self.a*self.d[i]**2*cvx.inv_pos(dtau[i]) + self.b*self.d[i] + self.c*(dtau[i])\n",
    "        objective = cvx.Minimize(objective)\n",
    "        \n",
    "        problem = cvx.Problem(objective, constraints)\n",
    "        self.fuel = problem.solve()\n",
    "        self.tau = dtau.value\n",
    "        self.tau = np.asarray(self.tau)\n",
    "        self.tau = np.cumsum(self.tau)\n",
    "        self.s = np.zeros_like(self.tau)\n",
    "        for i in range(len(self.s)):\n",
    "            self.s[i] = self.d[i]/dtau.value[i]\n",
    "        self.dtau = np.asarray(dtau.value)\n",
    "            \n",
    "    def schedule_plot(self):\n",
    "        schedule = self.s\n",
    "        times = [0]\n",
    "        for i in range(self.n):\n",
    "            times.append(times[-1] + self.d[i]/schedule[i])\n",
    "        times = times[1:]\n",
    "        plt.figure(figsize=(12,5))\n",
    "        plt.step(times, schedule)\n",
    "        plt.xlabel('Time')\n",
    "        plt.ylabel('Speed')\n",
    "        plt.title('Schedule')\n",
    "        plt.show()"
   ]
  },
  {
   "cell_type": "code",
   "execution_count": 19,
   "metadata": {},
   "outputs": [],
   "source": [
    "vehicle = Vehicle()\n",
    "vehicle.solve()"
   ]
  },
  {
   "cell_type": "code",
   "execution_count": 20,
   "metadata": {},
   "outputs": [
    {
     "data": {
      "text/plain": [
       "2617.8251935493336"
      ]
     },
     "execution_count": 20,
     "metadata": {},
     "output_type": "execute_result"
    }
   ],
   "source": [
    "vehicle.fuel"
   ]
  },
  {
   "cell_type": "code",
   "execution_count": 21,
   "metadata": {},
   "outputs": [
    {
     "data": {
      "image/png": "[encoded data removed]",
      "text/plain": [
       "<matplotlib.figure.Figure at 0x15f3bf0d0f0>"
      ]
     },
     "metadata": {},
     "output_type": "display_data"
    }
   ],
   "source": [
    "vehicle.schedule_plot()"
   ]
  },
  {
   "cell_type": "markdown",
   "metadata": {},
   "source": [
    "## Problem 3.\n",
    "\n",
    "Just to check my analytical solution."
   ]
  },
  {
   "cell_type": "code",
   "execution_count": 22,
   "metadata": {},
   "outputs": [
    {
     "name": "stdout",
     "output_type": "stream",
     "text": [
      "0.0\n"
     ]
    }
   ],
   "source": [
    "# Initial problem\n",
    "\n",
    "y = cvx.Variable(2)\n",
    "F_1 = np.array([[0,5,0],[5,0,0],[0,0,4]])\n",
    "F_2 = np.array([[0,0,0],[0,3,0],[0,0,0]])\n",
    "G = np.array([[0,0,0],[0,0,0],[0,0,2]])\n",
    "\n",
    "constraints = [\n",
    "    F_1*y[0] + F_2*y[1] + G >= 0\n",
    "]\n",
    "\n",
    "objective = cvx.Minimize(2*y[1])\n",
    "\n",
    "problem = cvx.Problem(objective, constraints)\n",
    "problem.solve()\n",
    "value = problem.value\n",
    "print(np.round(value, 8))"
   ]
  },
  {
   "cell_type": "code",
   "execution_count": 23,
   "metadata": {},
   "outputs": [
    {
     "name": "stdout",
     "output_type": "stream",
     "text": [
      "-1.0\n"
     ]
    }
   ],
   "source": [
    "# Dual problem\n",
    "\n",
    "Z = cvx.Variable(3,3)\n",
    "F_1 = np.array([[0,5,0],[5,0,0],[0,0,4]])\n",
    "F_2 = np.array([[0,0,0],[0,3,0],[0,0,0]])\n",
    "G = np.array([[0,0,0],[0,0,0],[0,0,2]])\n",
    "\n",
    "constraints = [\n",
    "    cvx.trace(Z.T@F_1) == 2,\n",
    "    cvx.trace(Z.T@F_2) == 0,\n",
    "    Z >= 0\n",
    "]\n",
    "\n",
    "objective = cvx.Minimize(cvx.trace(-Z.T@G))\n",
    "\n",
    "problem = cvx.Problem(objective, constraints)\n",
    "problem.solve()\n",
    "value = problem.value\n",
    "print(np.round(value, 8))"
   ]
  },
  {
   "cell_type": "markdown",
   "metadata": {},
   "source": [
    "## Problem 7.\n",
    "\n",
    "$$\n",
    "\\textrm{minimize}_{x_1,x_2\\in\\mathbb{R}} 2x_1^2 + 2x_2^2 - x_1x_2\\\\\n",
    "\\textrm{subject to}\\\\\n",
    "2x_1 + 3x_2 \\geq 1,\\\\\n",
    "5x_1 + 4x_2 \\geq 1.\n",
    "$$\n",
    "\n",
    "###### QP:\n",
    "$$\n",
    "\\textrm{minimize}_{x\\in\\mathbb{R}^2} \\frac{1}{2}x^TPx\\\\\n",
    "\\textrm{subject to}\\\\\n",
    "Gx \\leq h\\\\\n",
    "$$\n",
    "where $P = \\begin{bmatrix}4 & -1\\\\-1&4 \\end{bmatrix}, G = \\begin{bmatrix}-2 & -3\\\\-5&-4 \\end{bmatrix}, h = \\begin{bmatrix}-1\\\\-1\\end{bmatrix}$\n",
    "\n",
    "##### Dual:\n",
    "$$\n",
    "\\textrm{maximize }_{\\lambda \\in \\mathbb{R}^2}-\\frac{1}{2}\\lambda^TGP^{-1}G^T\\lambda - \\lambda^Th\\\\\n",
    "\\textrm{subject to}\\\\\n",
    "\\lambda \\geq 0\n",
    "$$"
   ]
  },
  {
   "cell_type": "code",
   "execution_count": 24,
   "metadata": {},
   "outputs": [
    {
     "name": "stdout",
     "output_type": "stream",
     "text": [
      "p* = 0.1171874999741835\n",
      "x* = [[ 0.17187506]\n",
      " [ 0.21874996]]\n"
     ]
    }
   ],
   "source": [
    "# Initial problem\n",
    "\n",
    "x = cvx.Variable(2)\n",
    "P = np.array([[4,-1],[-1,4]])\n",
    "G = np.array([[-2,-3],[-5,-4]])\n",
    "h = np.array([[-1],[-1]])\n",
    "\n",
    "constraints = [\n",
    "    G@x <= h\n",
    "]\n",
    "\n",
    "objective = cvx.Minimize(1/2*cvx.quad_form(x, P))\n",
    "\n",
    "problem = cvx.Problem(objective, constraints)\n",
    "problem.solve()\n",
    "value = problem.value\n",
    "print(\"p* =\",value)\n",
    "print(\"x* =\", x.value)"
   ]
  },
  {
   "cell_type": "code",
   "execution_count": 25,
   "metadata": {},
   "outputs": [
    {
     "name": "stdout",
     "output_type": "stream",
     "text": [
      "d* = 0.11718750195663398\n",
      "l* = [[  2.34375101e-01]\n",
      " [  1.16799917e-09]]\n"
     ]
    }
   ],
   "source": [
    "# Dual problem\n",
    "\n",
    "l = cvx.Variable(2)\n",
    "P = np.array([[4,-1],[-1,4]])\n",
    "G = np.array([[-2,-3],[-5,-4]])\n",
    "h = np.array([[-1],[-1]])\n",
    "\n",
    "\n",
    "constraints = [\n",
    "    l >= 0\n",
    "]\n",
    "\n",
    "objective = cvx.Maximize(-1/2*cvx.quad_form(l, G@np.linalg.inv(P)@G.T) - l.T@(h))\n",
    "\n",
    "problem = cvx.Problem(objective, constraints)\n",
    "problem.solve()\n",
    "value = problem.value\n",
    "print(\"d* =\",value)\n",
    "print(\"l* =\", l.value)"
   ]
  },
  {
   "cell_type": "markdown",
   "metadata": {},
   "source": [
    "You see that $p^* = d^*$.\n",
    "\n",
    "$$\n",
    "\\textrm{minimize}_{x_1,x_2\\in\\mathbb{R}} f_0(x) = 2x_1^2 + 2x_2^2 - x_1x_2\\\\\n",
    "\\textrm{subject to}\\\\\n",
    "f_1(x) = -2x_1 - 3x_2 + 1 \\leq 0,\\\\\n",
    "f_2(x) = -5x_1 - 4x_2 + 1 \\leq 0.\n",
    "$$\n",
    "\n",
    "$\\Delta f_0(x) = (4x_1 - x_2, 4x_2 - x_1)\\\\\\Delta f_1(x) = (-2, -3)\\\\\\Delta f_0(x) = (-5, -4)$\n",
    "\n",
    "Let us check KKT conditions:\n",
    "\n",
    "1. $f_1(x^*) = 0 \\leq 0\\\\f_2(x^*) = -0.73437515 \\leq 0$\n",
    "2. $\\lambda_1 = 0.2343751 \\geq 0\\\\ \\lambda_2 = 0 \\geq 0$\n",
    "3. $\\Delta f_0(x^*) + \\lambda_1^*\\Delta f_1(x^*)+ \\lambda_2^*\\Delta f_2(x^*) = \n",
    "(0.4687503,0.70312476) + 0.2343751\\cdot(-2,-3) + (0,0) = (0,0)$\n",
    "4. $\\lambda_1^*f_1(x^*) = 0.2343751\\cdot0 = 0,\\\\\\lambda_2^*f_2(x^*) = 0\\cdot(-0.73437515) = 0$\n",
    "\n",
    "KKT are satisfied."
   ]
  }
 ],
 "metadata": {
  "kernelspec": {
   "display_name": "Python3.5",
   "language": "python",
   "name": "python3.5"
  },
  "language_info": {
   "codemirror_mode": {
    "name": "ipython",
    "version": 3
   },
   "file_extension": ".py",
   "mimetype": "text/x-python",
   "name": "python",
   "nbconvert_exporter": "python",
   "pygments_lexer": "ipython3",
   "version": "3.5.4"
  }
 },
 "nbformat": 4,
 "nbformat_minor": 2
}
